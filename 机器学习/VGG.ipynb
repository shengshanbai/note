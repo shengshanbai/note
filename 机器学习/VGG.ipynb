{
  "nbformat": 4,
  "nbformat_minor": 0,
  "metadata": {
    "colab": {
      "name": "VGG.ipynb",
      "version": "0.3.2",
      "provenance": [],
      "collapsed_sections": [],
      "include_colab_link": true
    },
    "kernelspec": {
      "name": "python3",
      "display_name": "Python 3"
    },
    "accelerator": "GPU"
  },
  "cells": [
    {
      "cell_type": "markdown",
      "metadata": {
        "id": "view-in-github",
        "colab_type": "text"
      },
      "source": [
        "<a href=\"https://colab.research.google.com/github/shengshanbai/colabJupyter/blob/master/VGG.ipynb\" target=\"_parent\"><img src=\"https://colab.research.google.com/assets/colab-badge.svg\" alt=\"Open In Colab\"/></a>"
      ]
    },
    {
      "cell_type": "code",
      "metadata": {
        "id": "nQEyoFhrPRCT",
        "colab_type": "code",
        "colab": {
          "base_uri": "https://localhost:8080/",
          "height": 107
        },
        "outputId": "4e141ce2-6a21-4cfe-cad0-a23c5c5a1f70"
      },
      "source": [
        "!sudo lsb_release -a"
      ],
      "execution_count": 2,
      "outputs": [
        {
          "output_type": "stream",
          "text": [
            "No LSB modules are available.\n",
            "Distributor ID:\tUbuntu\n",
            "Description:\tUbuntu 18.04.3 LTS\n",
            "Release:\t18.04\n",
            "Codename:\tbionic\n"
          ],
          "name": "stdout"
        }
      ]
    },
    {
      "cell_type": "markdown",
      "metadata": {
        "id": "DiMyWT67RkzE",
        "colab_type": "text"
      },
      "source": [
        "在网上找到对应的cuda版本下载，安装cuda"
      ]
    },
    {
      "cell_type": "code",
      "metadata": {
        "id": "QlMzxSuoR8Yw",
        "colab_type": "code",
        "colab": {
          "base_uri": "https://localhost:8080/",
          "height": 1000
        },
        "outputId": "0bedcf46-4365-42b1-f3a3-e0ec6cc9c536"
      },
      "source": [
        "\n",
        "!apt-get update && sudo apt-get install -y build-essential git libgfortran3\n",
        "!wget https://developer.download.nvidia.com/compute/cuda/repos/ubuntu1804/x86_64/cuda-ubuntu1804.pin\n",
        "!sudo mv cuda-ubuntu1804.pin /etc/apt/preferences.d/cuda-repository-pin-600\n",
        "!wget http://developer.download.nvidia.com/compute/cuda/10.1/Prod/local_installers/cuda-repo-ubuntu1804-10-1-local-10.1.243-418.87.00_1.0-1_amd64.deb\n",
        "!sudo dpkg -i cuda-repo-ubuntu1804-10-1-local-10.1.243-418.87.00_1.0-1_amd64.deb\n",
        "!sudo apt-key add /var/cuda-repo-10-1-local-10.1.243-418.87.00/7fa2af80.pub\n",
        "!sudo apt-get update\n",
        "!sudo apt-get -y install cuda\n",
        "!cat /usr/local/cuda/version.txt\n",
        "!pip install mxnet-cu100"
      ],
      "execution_count": 3,
      "outputs": [
        {
          "output_type": "stream",
          "text": [
            "\r0% [Working]\r            \rGet:1 file:/var/cuda-repo-10-1-local-10.1.243-418.87.00  InRelease\n",
            "\r            \rIgn:1 file:/var/cuda-repo-10-1-local-10.1.243-418.87.00  InRelease\n",
            "\r0% [Connecting to cloud.r-project.org] [Connecting to ppa.launchpad.net]\r                                                                        \rGet:2 file:/var/cuda-repo-10-1-local-10.1.243-418.87.00  Release [574 B]\n",
            "\r0% [Connecting to cloud.r-project.org] [Connecting to ppa.launchpad.net]\r                                                                        \rGet:2 file:/var/cuda-repo-10-1-local-10.1.243-418.87.00  Release [574 B]\n",
            "\r0% [2 Release 0 B/574 B 0%] [Connecting to archive.ubuntu.com (91.189.88.162)] \r0% [Connecting to archive.ubuntu.com (91.189.88.162)] [Connecting to security.u\r0% [Release.gpg gpgv 574 B] [Connecting to archive.ubuntu.com (91.189.88.162)] \r                                                                               \rIgn:3 https://developer.download.nvidia.com/compute/cuda/repos/ubuntu1804/x86_64  InRelease\n",
            "\r0% [Release.gpg gpgv 574 B] [Waiting for headers] [Connecting to security.ubunt\r                                                                               \rHit:4 https://cloud.r-project.org/bin/linux/ubuntu bionic-cran35/ InRelease\n",
            "\r0% [Release.gpg gpgv 574 B] [Waiting for headers] [Connecting to security.ubunt\r                                                                               \rHit:5 http://ppa.launchpad.net/graphics-drivers/ppa/ubuntu bionic InRelease\n",
            "\r0% [Release.gpg gpgv 574 B] [Waiting for headers] [Connecting to security.ubunt\r                                                                               \rHit:6 http://archive.ubuntu.com/ubuntu bionic InRelease\n",
            "\r0% [Release.gpg gpgv 574 B] [Connecting to security.ubuntu.com (91.189.88.173)]\r0% [Connecting to archive.ubuntu.com (91.189.88.162)] [Connecting to security.u\r0% [4 InRelease gpgv 3,626 B] [Connecting to archive.ubuntu.com (91.189.88.162)\r                                                                               \rIgn:8 https://developer.download.nvidia.com/compute/machine-learning/repos/ubuntu1804/x86_64  InRelease\n",
            "\r0% [4 InRelease gpgv 3,626 B] [Connecting to archive.ubuntu.com (91.189.88.162)\r                                                                               \rHit:9 https://developer.download.nvidia.com/compute/cuda/repos/ubuntu1804/x86_64  Release\n",
            "\r0% [4 InRelease gpgv 3,626 B] [Connecting to archive.ubuntu.com (91.189.88.162)\r                                                                               \rHit:10 https://developer.download.nvidia.com/compute/machine-learning/repos/ubuntu1804/x86_64  Release\n",
            "\r0% [4 InRelease gpgv 3,626 B] [Connecting to archive.ubuntu.com (91.189.88.162)\r                                                                               \rGet:11 http://security.ubuntu.com/ubuntu bionic-security InRelease [88.7 kB]\n",
            "\r0% [4 InRelease gpgv 3,626 B] [Waiting for headers] [11 InRelease 14.2 kB/88.7 \r                                                                               \rHit:12 http://ppa.launchpad.net/marutter/c2d4u3.5/ubuntu bionic InRelease\n",
            "\r0% [4 InRelease gpgv 3,626 B] [Waiting for headers] [11 InRelease 46.0 kB/88.7 \r                                                                               \rHit:13 http://archive.ubuntu.com/ubuntu bionic-updates InRelease\n",
            "Get:14 http://archive.ubuntu.com/ubuntu bionic-backports InRelease [74.6 kB]\n",
            "Fetched 163 kB in 2s (91.5 kB/s)\n",
            "Reading package lists... Done\n",
            "Reading package lists... Done\n",
            "Building dependency tree       \n",
            "Reading state information... Done\n",
            "build-essential is already the newest version (12.4ubuntu1).\n",
            "git is already the newest version (1:2.17.1-1ubuntu0.4).\n",
            "libgfortran3 is already the newest version (6.5.0-2ubuntu1~18.04).\n",
            "0 upgraded, 0 newly installed, 0 to remove and 51 not upgraded.\n",
            "--2019-09-04 02:06:26--  https://developer.download.nvidia.com/compute/cuda/repos/ubuntu1804/x86_64/cuda-ubuntu1804.pin\n",
            "Resolving developer.download.nvidia.com (developer.download.nvidia.com)... 192.229.211.70, 2606:2800:21f:3aa:dcf:37b:1ed6:1fb\n",
            "Connecting to developer.download.nvidia.com (developer.download.nvidia.com)|192.229.211.70|:443... connected.\n",
            "HTTP request sent, awaiting response... 200 OK\n",
            "Length: 56 [application/octet-stream]\n",
            "Saving to: ‘cuda-ubuntu1804.pin’\n",
            "\n",
            "cuda-ubuntu1804.pin 100%[===================>]      56  --.-KB/s    in 0s      \n",
            "\n",
            "2019-09-04 02:06:26 (1.32 MB/s) - ‘cuda-ubuntu1804.pin’ saved [56/56]\n",
            "\n",
            "--2019-09-04 02:06:31--  http://developer.download.nvidia.com/compute/cuda/10.1/Prod/local_installers/cuda-repo-ubuntu1804-10-1-local-10.1.243-418.87.00_1.0-1_amd64.deb\n",
            "Resolving developer.download.nvidia.com (developer.download.nvidia.com)... 192.229.211.70, 2606:2800:21f:3aa:dcf:37b:1ed6:1fb\n",
            "Connecting to developer.download.nvidia.com (developer.download.nvidia.com)|192.229.211.70|:80... connected.\n",
            "HTTP request sent, awaiting response... 200 OK\n",
            "Length: 1859785444 (1.7G) [application/x-deb]\n",
            "Saving to: ‘cuda-repo-ubuntu1804-10-1-local-10.1.243-418.87.00_1.0-1_amd64.deb.3’\n",
            "\n",
            "cuda-repo-ubuntu180 100%[===================>]   1.73G   153MB/s    in 11s     \n",
            "\n",
            "2019-09-04 02:06:43 (156 MB/s) - ‘cuda-repo-ubuntu1804-10-1-local-10.1.243-418.87.00_1.0-1_amd64.deb.3’ saved [1859785444/1859785444]\n",
            "\n",
            "(Reading database ... 144054 files and directories currently installed.)\n",
            "Preparing to unpack cuda-repo-ubuntu1804-10-1-local-10.1.243-418.87.00_1.0-1_amd64.deb ...\n",
            "Unpacking cuda-repo-ubuntu1804-10-1-local-10.1.243-418.87.00 (1.0-1) over (1.0-1) ...\n",
            "Setting up cuda-repo-ubuntu1804-10-1-local-10.1.243-418.87.00 (1.0-1) ...\n",
            "OK\n",
            "Get:1 file:/var/cuda-repo-10-1-local-10.1.243-418.87.00  InRelease\n",
            "Ign:1 file:/var/cuda-repo-10-1-local-10.1.243-418.87.00  InRelease\n",
            "Get:2 file:/var/cuda-repo-10-1-local-10.1.243-418.87.00  Release [574 B]\n",
            "Get:2 file:/var/cuda-repo-10-1-local-10.1.243-418.87.00  Release [574 B]\n",
            "Hit:4 https://cloud.r-project.org/bin/linux/ubuntu bionic-cran35/ InRelease\n",
            "Ign:5 https://developer.download.nvidia.com/compute/cuda/repos/ubuntu1804/x86_64  InRelease\n",
            "Hit:6 http://ppa.launchpad.net/graphics-drivers/ppa/ubuntu bionic InRelease\n",
            "Hit:7 http://archive.ubuntu.com/ubuntu bionic InRelease\n",
            "Get:8 http://security.ubuntu.com/ubuntu bionic-security InRelease [88.7 kB]\n",
            "Ign:9 https://developer.download.nvidia.com/compute/machine-learning/repos/ubuntu1804/x86_64  InRelease\n",
            "Hit:10 https://developer.download.nvidia.com/compute/cuda/repos/ubuntu1804/x86_64  Release\n",
            "Hit:11 https://developer.download.nvidia.com/compute/machine-learning/repos/ubuntu1804/x86_64  Release\n",
            "Hit:12 http://ppa.launchpad.net/marutter/c2d4u3.5/ubuntu bionic InRelease\n",
            "Hit:13 http://archive.ubuntu.com/ubuntu bionic-updates InRelease\n",
            "Get:16 http://archive.ubuntu.com/ubuntu bionic-backports InRelease [74.6 kB]\n",
            "Fetched 163 kB in 4s (44.5 kB/s)\n",
            "Reading package lists... Done\n",
            "Reading package lists... Done\n",
            "Building dependency tree       \n",
            "Reading state information... Done\n",
            "cuda is already the newest version (10.1.243-1).\n",
            "0 upgraded, 0 newly installed, 0 to remove and 51 not upgraded.\n",
            "CUDA Version 10.1.243\n",
            "Requirement already satisfied: mxnet-cu100 in /usr/local/lib/python3.6/dist-packages (1.5.0)\n",
            "Requirement already satisfied: numpy<2.0.0,>1.16.0 in /usr/local/lib/python3.6/dist-packages (from mxnet-cu100) (1.16.4)\n",
            "Requirement already satisfied: requests<3,>=2.20.0 in /usr/local/lib/python3.6/dist-packages (from mxnet-cu100) (2.21.0)\n",
            "Requirement already satisfied: graphviz<0.9.0,>=0.8.1 in /usr/local/lib/python3.6/dist-packages (from mxnet-cu100) (0.8.4)\n",
            "Requirement already satisfied: idna<2.9,>=2.5 in /usr/local/lib/python3.6/dist-packages (from requests<3,>=2.20.0->mxnet-cu100) (2.8)\n",
            "Requirement already satisfied: chardet<3.1.0,>=3.0.2 in /usr/local/lib/python3.6/dist-packages (from requests<3,>=2.20.0->mxnet-cu100) (3.0.4)\n",
            "Requirement already satisfied: urllib3<1.25,>=1.21.1 in /usr/local/lib/python3.6/dist-packages (from requests<3,>=2.20.0->mxnet-cu100) (1.24.3)\n",
            "Requirement already satisfied: certifi>=2017.4.17 in /usr/local/lib/python3.6/dist-packages (from requests<3,>=2.20.0->mxnet-cu100) (2019.6.16)\n"
          ],
          "name": "stdout"
        }
      ]
    },
    {
      "cell_type": "code",
      "metadata": {
        "id": "9TTgF9mGooFB",
        "colab_type": "code",
        "colab": {
          "base_uri": "https://localhost:8080/",
          "height": 107
        },
        "outputId": "865e6695-5133-4b65-b4d5-7a89c34c3caa"
      },
      "source": [
        "!ls ."
      ],
      "execution_count": 11,
      "outputs": [
        {
          "output_type": "stream",
          "text": [
            "cuda-repo-ubuntu1804-10-1-local-10.1.243-418.87.00_1.0-1_amd64.deb\n",
            "cuda-repo-ubuntu1804-10-1-local-10.1.243-418.87.00_1.0-1_amd64.deb.1\n",
            "cuda-repo-ubuntu1804-10-1-local-10.1.243-418.87.00_1.0-1_amd64.deb.2\n",
            "cuda-repo-ubuntu1804-10-1-local-10.1.243-418.87.00_1.0-1_amd64.deb.3\n",
            "sample_data\n"
          ],
          "name": "stdout"
        }
      ]
    },
    {
      "cell_type": "code",
      "metadata": {
        "id": "1k_BCrLaU2lr",
        "colab_type": "code",
        "colab": {}
      },
      "source": [
        "import mxnet as mx\n",
        "from mxnet import gluon, init, nd\n",
        "from mxnet.gluon import nn"
      ],
      "execution_count": 0,
      "outputs": []
    },
    {
      "cell_type": "markdown",
      "metadata": {
        "id": "OXfhhTwTTMVR",
        "colab_type": "text"
      },
      "source": [
        "VGG块定义"
      ]
    },
    {
      "cell_type": "code",
      "metadata": {
        "id": "X02DKmzpSR3o",
        "colab_type": "code",
        "colab": {}
      },
      "source": [
        "def vgg_block(num_convs, num_channels):\n",
        "    blk = nn.Sequential()\n",
        "    for _ in range(num_convs):\n",
        "        blk.add(nn.Conv2D(num_channels, kernel_size=3,\n",
        "                          padding=1, activation='relu'))\n",
        "    blk.add(nn.MaxPool2D(pool_size=2, strides=2))\n",
        "    return blk"
      ],
      "execution_count": 0,
      "outputs": []
    },
    {
      "cell_type": "markdown",
      "metadata": {
        "id": "RWxNXttnTfjG",
        "colab_type": "text"
      },
      "source": [
        "实现VGG-11"
      ]
    },
    {
      "cell_type": "code",
      "metadata": {
        "id": "Bbp6QdH1TguO",
        "colab_type": "code",
        "colab": {}
      },
      "source": [
        "conv_arch = ((1, 64), (1, 128), (2, 256), (2, 512), (2, 512))\n",
        "def vgg(conv_arch):\n",
        "    net = nn.Sequential()\n",
        "    # 卷积层部分\n",
        "    for (num_convs, num_channels) in conv_arch:\n",
        "        net.add(vgg_block(num_convs, num_channels))\n",
        "    # 全连接层部分\n",
        "    net.add(nn.Dense(4096, activation='relu'), nn.Dropout(0.5),\n",
        "            nn.Dense(4096, activation='relu'), nn.Dropout(0.5),\n",
        "            nn.Dense(10))\n",
        "    return net"
      ],
      "execution_count": 0,
      "outputs": []
    },
    {
      "cell_type": "markdown",
      "metadata": {
        "id": "y7A4pZlhiAEP",
        "colab_type": "text"
      },
      "source": [
        "加载数据"
      ]
    },
    {
      "cell_type": "code",
      "metadata": {
        "id": "XChbqtNOiCCC",
        "colab_type": "code",
        "colab": {}
      },
      "source": [
        "import os\n",
        "\n",
        "from matplotlib import pyplot as plt\n",
        "import mxnet as mx\n",
        "from mxnet import autograd, gluon, image, init, nd\n",
        "from mxnet.contrib import text\n",
        "from mxnet.gluon import data as gdata, loss as gloss, nn, utils as gutils\n",
        "import numpy as np\n",
        "import sys\n",
        "import time\n",
        "\n",
        "def load_data_fashion_mnist(batch_size, resize=None, root=os.path.join(\n",
        "        '~', '.mxnet', 'datasets', 'fashion-mnist')):\n",
        "    \"\"\"Download the fashion mnist dataset and then load into memory.\"\"\"\n",
        "    root = os.path.expanduser(root)\n",
        "    transformer = []\n",
        "    if resize:\n",
        "        transformer += [gdata.vision.transforms.Resize(resize)]\n",
        "    transformer += [gdata.vision.transforms.ToTensor()]\n",
        "    transformer = gdata.vision.transforms.Compose(transformer)\n",
        "\n",
        "    mnist_train = gdata.vision.FashionMNIST(root=root, train=True)\n",
        "    mnist_test = gdata.vision.FashionMNIST(root=root, train=False)\n",
        "    num_workers = 0 if sys.platform.startswith('win32') else 4\n",
        "\n",
        "    train_iter = gdata.DataLoader(mnist_train.transform_first(transformer),\n",
        "                                  batch_size, shuffle=True,\n",
        "                                  num_workers=num_workers)\n",
        "    test_iter = gdata.DataLoader(mnist_test.transform_first(transformer),\n",
        "                                 batch_size, shuffle=False,\n",
        "                                 num_workers=num_workers)\n",
        "    return train_iter, test_iter"
      ],
      "execution_count": 0,
      "outputs": []
    },
    {
      "cell_type": "markdown",
      "metadata": {
        "id": "JSgVuIIEijOE",
        "colab_type": "text"
      },
      "source": [
        "封装训练函数"
      ]
    },
    {
      "cell_type": "code",
      "metadata": {
        "id": "vaQGE3Owil_7",
        "colab_type": "code",
        "colab": {}
      },
      "source": [
        "def _get_batch(batch, ctx):\n",
        "    \"\"\"Return features and labels on ctx.\"\"\"\n",
        "    features, labels = batch\n",
        "    if labels.dtype != features.dtype:\n",
        "        labels = labels.astype(features.dtype)\n",
        "    return (gutils.split_and_load(features, ctx),\n",
        "            gutils.split_and_load(labels, ctx), features.shape[0])\n",
        "\n",
        "def evaluate_accuracy(data_iter, net, ctx=[mx.cpu()]):\n",
        "    \"\"\"Evaluate accuracy of a model on the given data set.\"\"\"\n",
        "    if isinstance(ctx, mx.Context):\n",
        "        ctx = [ctx]\n",
        "    acc_sum, n = nd.array([0]), 0\n",
        "    for batch in data_iter:\n",
        "        features, labels, _ = _get_batch(batch, ctx)\n",
        "        for X, y in zip(features, labels):\n",
        "            y = y.astype('float32')\n",
        "            acc_sum += (net(X).argmax(axis=1) == y).sum().copyto(mx.cpu())\n",
        "            n += y.size\n",
        "        acc_sum.wait_to_read()\n",
        "    return acc_sum.asscalar() / n\n",
        "\n",
        "def train_ch5(net, train_iter, test_iter, batch_size, trainer, ctx,\n",
        "              num_epochs):\n",
        "    \"\"\"Train and evaluate a model with CPU or GPU.\"\"\"\n",
        "    print('training on', ctx)\n",
        "    loss = gloss.SoftmaxCrossEntropyLoss()\n",
        "    for epoch in range(num_epochs):\n",
        "        train_l_sum, train_acc_sum, n, start = 0.0, 0.0, 0, time.time()\n",
        "        for X, y in train_iter:\n",
        "            X, y = X.as_in_context(ctx), y.as_in_context(ctx)\n",
        "            with autograd.record():\n",
        "                y_hat = net(X)\n",
        "                l = loss(y_hat, y).sum()\n",
        "            l.backward()\n",
        "            trainer.step(batch_size)\n",
        "            y = y.astype('float32')\n",
        "            train_l_sum += l.asscalar()\n",
        "            train_acc_sum += (y_hat.argmax(axis=1) == y).sum().asscalar()\n",
        "            n += y.size\n",
        "        test_acc = evaluate_accuracy(test_iter, net, ctx)\n",
        "        print('epoch %d, loss %.4f, train acc %.3f, test acc %.3f, '\n",
        "              'time %.1f sec'\n",
        "              % (epoch + 1, train_l_sum / n, train_acc_sum / n, test_acc,\n",
        "                 time.time() - start))"
      ],
      "execution_count": 0,
      "outputs": []
    },
    {
      "cell_type": "markdown",
      "metadata": {
        "id": "poJ7W5HOWfjr",
        "colab_type": "text"
      },
      "source": [
        "模型训练"
      ]
    },
    {
      "cell_type": "code",
      "metadata": {
        "id": "DYZF54JjWgzI",
        "colab_type": "code",
        "colab": {
          "base_uri": "https://localhost:8080/",
          "height": 215
        },
        "outputId": "90ff25ce-d47e-40bf-da12-b700aac48f55"
      },
      "source": [
        "lr, num_epochs, batch_size, ctx = 0.05, 10, 64, mx.gpu()\n",
        "ratio = 4\n",
        "small_conv_arch = [(pair[0], pair[1] // ratio) for pair in conv_arch]\n",
        "net = vgg(small_conv_arch)\n",
        "net.initialize(ctx=ctx, init=init.Xavier())\n",
        "trainer = gluon.Trainer(net.collect_params(), 'sgd', {'learning_rate': lr,'momentum':0.9})\n",
        "train_iter, test_iter = load_data_fashion_mnist(batch_size, resize=96)\n",
        "train_ch5(net, train_iter, test_iter, batch_size, trainer, ctx,num_epochs)"
      ],
      "execution_count": 26,
      "outputs": [
        {
          "output_type": "stream",
          "text": [
            "training on gpu(0)\n",
            "epoch 1, loss 0.6212, train acc 0.768, test acc 0.873, time 55.4 sec\n",
            "epoch 2, loss 0.3610, train acc 0.868, test acc 0.882, time 54.6 sec\n",
            "epoch 3, loss 0.3317, train acc 0.878, test acc 0.892, time 54.8 sec\n",
            "epoch 4, loss 0.3122, train acc 0.886, test acc 0.881, time 54.7 sec\n",
            "epoch 5, loss 0.3052, train acc 0.889, test acc 0.884, time 54.6 sec\n",
            "epoch 6, loss 0.2913, train acc 0.892, test acc 0.900, time 54.8 sec\n",
            "epoch 7, loss 0.2809, train acc 0.897, test acc 0.886, time 55.0 sec\n",
            "epoch 8, loss 0.2844, train acc 0.895, test acc 0.893, time 54.8 sec\n",
            "epoch 9, loss 0.2886, train acc 0.892, test acc 0.892, time 54.8 sec\n",
            "epoch 10, loss 0.2766, train acc 0.899, test acc 0.899, time 54.8 sec\n"
          ],
          "name": "stdout"
        }
      ]
    }
  ]
}